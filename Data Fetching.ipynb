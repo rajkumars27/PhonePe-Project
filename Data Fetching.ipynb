{
 "cells": [
  {
   "cell_type": "code",
   "execution_count": null,
   "id": "9fdd3d52",
   "metadata": {},
   "outputs": [],
   "source": [
    "!git clone https://github.com/PhonePe/pulse.git"
   ]
  },
  {
   "cell_type": "code",
   "execution_count": 15,
   "id": "f6089591",
   "metadata": {},
   "outputs": [],
   "source": [
    "# Required Packages\n",
    "import json\n",
    "import streamlit as st\n",
    "import pandas as pd\n",
    "import requests\n",
    "import psycopg2\n",
    "import plotly.express as px\n",
    "import plotly.graph_objects as go\n",
    "from streamlit_option_menu import option_menu\n",
    "\n"
   ]
  },
  {
   "cell_type": "code",
   "execution_count": 18,
   "id": "2e011d95",
   "metadata": {},
   "outputs": [
    {
     "data": {
      "text/html": [
       "<div>\n",
       "<style scoped>\n",
       "    .dataframe tbody tr th:only-of-type {\n",
       "        vertical-align: middle;\n",
       "    }\n",
       "\n",
       "    .dataframe tbody tr th {\n",
       "        vertical-align: top;\n",
       "    }\n",
       "\n",
       "    .dataframe thead th {\n",
       "        text-align: right;\n",
       "    }\n",
       "</style>\n",
       "<table border=\"1\" class=\"dataframe\">\n",
       "  <thead>\n",
       "    <tr style=\"text-align: right;\">\n",
       "      <th></th>\n",
       "      <th>State</th>\n",
       "      <th>Year</th>\n",
       "      <th>Quarter</th>\n",
       "      <th>Transaction_count</th>\n",
       "      <th>Transaction_amount</th>\n",
       "    </tr>\n",
       "  </thead>\n",
       "  <tbody>\n",
       "  </tbody>\n",
       "</table>\n",
       "</div>"
      ],
      "text/plain": [
       "Empty DataFrame\n",
       "Columns: [State, Year, Quarter, Transaction_count, Transaction_amount]\n",
       "Index: []"
      ]
     },
     "execution_count": 18,
     "metadata": {},
     "output_type": "execute_result"
    }
   ],
   "source": [
    "import os\n",
    "import json\n",
    "import pandas as pd\n",
    "\n",
    "# Set the path to the insurance data\n",
    "insurance_path = r\"C:/Users/razer/OneDrive/Documents/Python/PhonePe-Project/pulse/data/aggregated/insurance/country/india/state\"\n",
    "insurance_state_list = os.listdir(insurance_path)\n",
    "\n",
    "# Create a dictionary to collect insurance data\n",
    "insurance_data = {'State': [], 'Year': [], 'Quarter': [], 'Transaction_count': [], 'Transaction_amount': []}\n",
    "\n",
    "for state in insurance_state_list:\n",
    "    cur_state = os.path.join(insurance_path, state)\n",
    "    year_list = os.listdir(cur_state)\n",
    "    \n",
    "    for year in year_list:\n",
    "        cur_year = os.path.join(cur_state, year)\n",
    "        file_list = os.listdir(cur_year)\n",
    "        \n",
    "        for file in file_list:\n",
    "            cur_file = os.path.join(cur_year, file)\n",
    "            with open(cur_file, 'r') as data:\n",
    "                content = json.load(data)\n",
    "                try:\n",
    "                    count = content['data']['metric']['count']\n",
    "                    amount = content['data']['metric']['amount']\n",
    "                    \n",
    "                    insurance_data['State'].append(state)\n",
    "                    insurance_data['Year'].append(year)\n",
    "                    insurance_data['Quarter'].append(int(file.strip('.json')))\n",
    "                    insurance_data['Transaction_count'].append(count)\n",
    "                    insurance_data['Transaction_amount'].append(amount)\n",
    "                except:\n",
    "                    continue  # Skip files with missing or unexpected data\n",
    "\n",
    "# Convert all State values to string before applying string operations\n",
    "df_insurance[\"State\"] = df_insurance[\"State\"].astype(str)\n",
    "\n",
    "# Clean State names\n",
    "df_insurance[\"State\"] = df_insurance[\"State\"].str.replace(\"andaman-&-nicobar-islands\", \"Andaman & Nicobar\", regex=False)\n",
    "df_insurance[\"State\"] = df_insurance[\"State\"].str.replace(\"-\", \" \", regex=False)\n",
    "df_insurance[\"State\"] = df_insurance[\"State\"].str.title()\n",
    "df_insurance[\"State\"] = df_insurance[\"State\"].str.replace(\n",
    "    \"Dadra & Nagar Haveli & Daman & Diu\",\n",
    "    \"Dadra and Nagar Haveli and Daman and Diu\",\n",
    "    regex=False\n",
    ")\n",
    "\n",
    "df_insurance.head()"
   ]
  }
 ],
 "metadata": {
  "kernelspec": {
   "display_name": "Python 3",
   "language": "python",
   "name": "python3"
  },
  "language_info": {
   "codemirror_mode": {
    "name": "ipython",
    "version": 3
   },
   "file_extension": ".py",
   "mimetype": "text/x-python",
   "name": "python",
   "nbconvert_exporter": "python",
   "pygments_lexer": "ipython3",
   "version": "3.13.2"
  }
 },
 "nbformat": 4,
 "nbformat_minor": 5
}
